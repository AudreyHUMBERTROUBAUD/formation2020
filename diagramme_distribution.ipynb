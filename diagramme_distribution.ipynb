{
 "cells": [
  {
   "cell_type": "markdown",
   "metadata": {},
   "source": [
    "# Diagramme de distribution"
   ]
  },
  {
   "cell_type": "markdown",
   "metadata": {},
   "source": [
    "Voici le programme à exécuter pour obtenir le diagramme de distribution des espèces.\n",
    "Après avoir exécuté le programme vous devez renseigner la valeur du pKa du couple considéré afin d'obtenir le tracé de la distribution des espèces."
   ]
  },
  {
   "cell_type": "code",
   "execution_count": null,
   "metadata": {},
   "outputs": [],
   "source": [
    "Attention: En programmation Python, il faut mettre un point à la place de la virgule sinon il y a une erreur de syntaxe!!!"
   ]
  },
  {
   "cell_type": "code",
   "execution_count": null,
   "metadata": {},
   "outputs": [],
   "source": [
    "Une fois la valeur du pKa complétée, valider en appuyant sur Entrée."
   ]
  },
  {
   "cell_type": "code",
   "execution_count": null,
   "metadata": {},
   "outputs": [],
   "source": [
    "import matplotlib.pyplot as plt\n",
    "import numpy as np\n",
    "pKA=float(input('pKA du couple HA / A-  ?'))\n",
    "pH = np.linspace(0,14,1000)\n",
    "pHA = [100/(1+10**(i-pKA)) for i in pH]\n",
    "pA = [100/(1+10**(pKA-i)) for i in pH]\n",
    "plt.title('Diagramme de distribution d\\'un couple HA/A-')\n",
    "plt.xlabel('pH')\n",
    "plt.ylabel('%')\n",
    "plt.axis(xmin=0,xmax=14,ymin=0, ymax=100)\n",
    "plt.xticks(range(15))\n",
    "plt.yticks(range(0,110,10))\n",
    "plt.grid(linestyle=\"-.\")\n",
    "plt.plot(pH, pHA, color='r', label='% en HA' )\n",
    "plt.plot(pH, pA, color='b',label='% en A-' )\n",
    "plt.show()"
   ]
  }
 ],
 "metadata": {
  "kernelspec": {
   "display_name": "Python 3",
   "language": "python",
   "name": "python3"
  },
  "language_info": {
   "codemirror_mode": {
    "name": "ipython",
    "version": 3
   },
   "file_extension": ".py",
   "mimetype": "text/x-python",
   "name": "python",
   "nbconvert_exporter": "python",
   "pygments_lexer": "ipython3",
   "version": "3.7.8"
  }
 },
 "nbformat": 4,
 "nbformat_minor": 4
}
