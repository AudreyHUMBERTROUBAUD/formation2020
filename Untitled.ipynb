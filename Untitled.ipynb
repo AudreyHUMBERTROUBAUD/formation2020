{
 "cells": [
  {
   "cell_type": "markdown",
   "metadata": {},
   "source": [
    "# Cinétique réaction ordre 1"
   ]
  },
  {
   "cell_type": "code",
   "execution_count": null,
   "metadata": {},
   "outputs": [],
   "source": [
    "from math import * \n",
    "import  matplotlib.pyplot as plt\n",
    "import numpy as np\n",
    "from scipy.stats import linregress\n",
    "\n",
    "# définition extensive d'une liste (extrait d'un tableau de mesures)\n",
    "listet=[0.0,10.0,20.0,30.0,60.0,90.0]\n",
    "listec=[124.0,92.0,68.0,50.0,20.0,8.0]\n",
    "listelnc=[0.0,0.0,0.0,0.0,0.0,0.0]\n",
    "modelelinY=[0.0,0.0,0.0,0.0,0.0,0.0]\n",
    "\n",
    "# calcul de la liste des logarithmes des concentrations\n",
    "for i in range (0,6):\n",
    "    listelnc[i]=np.log(listec[i])\n",
    "\n",
    "# tracé du graphique donnant ln (c) en fonction de t\n",
    "plt.plot(listet,listelnc,\"*\",color=\"red\")\n",
    "\n",
    "# calcul des paramètres de la régression linéaire\n",
    "(a,b,rho,_,_)=linregress(listet,listelnc)\n",
    "# a: coefficient directeur\n",
    "# b: ordonnée à l'origine\n",
    "# rho: coefficient de corrélation linéaire\n",
    "print(\"ln(c)=\",a,\"t+\",b,\"coef. de corr. =\",rho)\n",
    "for i in range (0,6):\n",
    "    modelelinY[i]=a*listet[i]+b\n",
    "\n",
    "# tracé de la droite de régression linéaire\n",
    "plt.plot(listet,modelelinY,color=\"blue\")\n",
    "plt.xlabel(\"t(en min)\")\n",
    "plt.ylabel(\"ln(c)\")\n",
    "plt.show()"
   ]
  },
  {
   "cell_type": "code",
   "execution_count": null,
   "metadata": {},
   "outputs": [],
   "source": []
  }
 ],
 "metadata": {
  "kernelspec": {
   "display_name": "Python 3",
   "language": "python",
   "name": "python3"
  },
  "language_info": {
   "codemirror_mode": {
    "name": "ipython",
    "version": 3
   },
   "file_extension": ".py",
   "mimetype": "text/x-python",
   "name": "python",
   "nbconvert_exporter": "python",
   "pygments_lexer": "ipython3",
   "version": "3.7.8"
  }
 },
 "nbformat": 4,
 "nbformat_minor": 4
}
