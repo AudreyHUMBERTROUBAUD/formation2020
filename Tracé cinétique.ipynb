{
 "cells": [
  {
   "cell_type": "markdown",
   "metadata": {},
   "source": [
    "# Tracé cinétique"
   ]
  },
  {
   "cell_type": "markdown",
   "metadata": {},
   "source": [
    "Les premières cellules permettent de rendre le serveur actif pendant 2h même si vous ne le sollicitez pas. "
   ]
  },
  {
   "cell_type": "code",
   "execution_count": 1,
   "metadata": {},
   "outputs": [
    {
     "data": {
      "application/javascript": [
       "\n",
       "function repeter(){\n",
       "IPython.notebook.kernel.execute(\"a=1\");\n",
       "}\n",
       "// execute a = 1 en python toutes les 8 minutes pendant 2h\n",
       "let timerId = setInterval(() => repeter(), 480000);\n",
       "setTimeout(() => { clearInterval(timerId); alert('fin de cession'); }, 7200000);\n",
       "\n",
       "// Supprimer la taille limite pour la sortie d'une cellule\n",
       "IPython.OutputArea.prototype._should_scroll = function(lines) {\n",
       "    return false;\n",
       "};\n",
       "IPython.notebook.kernel.execute(\"url = '\" + window.location + \"'\");\n",
       "\n",
       "// Exécuter toutes les cellule du notebook\n",
       "    require(\n",
       "        ['base/js/namespace', 'jquery'], \n",
       "        function(jupyter, $) {\n",
       "            \n",
       "                \n",
       "                jupyter.actions.call('jupyter-notebook:run-all-cells-below');\n",
       "                jupyter.actions.call('jupyter-notebook:save-notebook');\n",
       "                \n",
       "\n",
       "        }\n",
       "    );"
      ],
      "text/plain": [
       "<IPython.core.display.Javascript object>"
      ]
     },
     "execution_count": 1,
     "metadata": {},
     "output_type": "execute_result"
    }
   ],
   "source": [
    "# Permet de tout executer au lancement du notebook + conserver le notebook actif pendant 2h\n",
    "from IPython.display import Javascript\n",
    "from masquer import *\n",
    "Javascript(\"\"\"\n",
    "function repeter(){\n",
    "IPython.notebook.kernel.execute(\"a=1\");\n",
    "}\n",
    "// execute a = 1 en python toutes les 8 minutes pendant 2h\n",
    "let timerId = setInterval(() => repeter(), 480000);\n",
    "setTimeout(() => { clearInterval(timerId); alert('fin de cession'); }, 7200000);\n",
    "\n",
    "// Supprimer la taille limite pour la sortie d'une cellule\n",
    "IPython.OutputArea.prototype._should_scroll = function(lines) {\n",
    "    return false;\n",
    "};\n",
    "IPython.notebook.kernel.execute(\"url = '\" + window.location + \"'\");\n",
    "\n",
    "// Exécuter toutes les cellule du notebook\n",
    "    require(\n",
    "        ['base/js/namespace', 'jquery'], \n",
    "        function(jupyter, $) {\n",
    "            \n",
    "                \n",
    "                jupyter.actions.call('jupyter-notebook:run-all-cells-below');\n",
    "                jupyter.actions.call('jupyter-notebook:save-notebook');\n",
    "                \n",
    "\n",
    "        }\n",
    "    );\"\"\")"
   ]
  },
  {
   "cell_type": "code",
   "execution_count": 2,
   "metadata": {},
   "outputs": [
    {
     "name": "stdout",
     "output_type": "stream",
     "text": [
      "lien à partager si besoin d'aide\n"
     ]
    },
    {
     "data": {
      "text/html": [
       "<a href=https://hub.gke.mybinder.org/user/audreyhumbertro-d-formation2020-uqbnfu4j/notebooks/Untitled1.ipynb?kernel_name=python3#?token=On34WbndRCW_tegLC-9HSg >https://hub.gke.mybinder.org/user/audreyhumbertro-d-formation2020-uqbnfu4j/notebooks/Untitled1.ipynb?kernel_name=python3#?token=On34WbndRCW_tegLC-9HSg</a>"
      ],
      "text/plain": [
       "<IPython.core.display.HTML object>"
      ]
     },
     "metadata": {},
     "output_type": "display_data"
    }
   ],
   "source": [
    "import os\n",
    "from IPython.display import HTML\n",
    "l = os.popen(\"jupyter notebook list\").readlines()\n",
    "token = l[1].split(\"?token=\")[1].split(\" :: \")[0]\n",
    "url2=url +\"?token=\"+token\n",
    "print(\"lien à partager si besoin d'aide\")\n",
    "display(HTML(\"<a href=\"+url2+\" >\"+url2+\"</a>\"))"
   ]
  },
  {
   "cell_type": "markdown",
   "metadata": {},
   "source": [
    "Le programme ne commence en réalité qu'ici."
   ]
  },
  {
   "cell_type": "markdown",
   "metadata": {},
   "source": [
    "1ere étape: on importe les bibliothèques."
   ]
  },
  {
   "cell_type": "code",
   "execution_count": 3,
   "metadata": {},
   "outputs": [],
   "source": [
    "from math import *\n",
    "import matplotlib.pyplot as plt\n",
    "import numpy as np\n",
    "from scipy.stats import linregress"
   ]
  },
  {
   "cell_type": "markdown",
   "metadata": {},
   "source": [
    "2ème étape: on rentre les variables(grandeurs) et on trace la courbe souhaitée."
   ]
  },
  {
   "cell_type": "code",
   "execution_count": 4,
   "metadata": {},
   "outputs": [
    {
     "data": {
      "text/plain": [
       "<function matplotlib.pyplot.show(close=None, block=None)>"
      ]
     },
     "execution_count": 4,
     "metadata": {},
     "output_type": "execute_result"
    },
    {
     "data": {
      "image/png": "[encoded data removed]",
      "text/plain": [
       "<Figure size 432x288 with 1 Axes>"
      ]
     },
     "metadata": {
      "needs_background": "light"
     },
     "output_type": "display_data"
    }
   ],
   "source": [
    "listet=[0.0,10.0,20.,30.0,60.0,90.0]\n",
    "listec=[124.0,92.0,68.0,50.0,20.0,8.0]\n",
    "plt.plot(listet, listec, color='blue')\n",
    "plt.title(\"concentration c (en mmol/L en fonction de t (en min))\")\n",
    "plt.xlabel(\"t (enmin)\")\n",
    "plt.ylabel(\"concentration c (en mmol/L)\")\n",
    "plt.show"
   ]
  },
  {
   "cell_type": "code",
   "execution_count": null,
   "metadata": {},
   "outputs": [],
   "source": []
  }
 ],
 "metadata": {
  "kernelspec": {
   "display_name": "Python 3",
   "language": "python",
   "name": "python3"
  },
  "language_info": {
   "codemirror_mode": {
    "name": "ipython",
    "version": 3
   },
   "file_extension": ".py",
   "mimetype": "text/x-python",
   "name": "python",
   "nbconvert_exporter": "python",
   "pygments_lexer": "ipython3",
   "version": "3.7.8"
  }
 },
 "nbformat": 4,
 "nbformat_minor": 4
}
