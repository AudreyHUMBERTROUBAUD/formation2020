{
 "cells": [
  {
   "cell_type": "markdown",
   "metadata": {},
   "source": [
    "# TP-TD n°3 bis: Modélisation de l'évolution des quantités de matière"
   ]
  },
  {
   "cell_type": "markdown",
   "metadata": {},
   "source": [
    "Tout d'abord, il faut importer les librairies utilisées gérant les tracés de courbes et certains outils mathématiques."
   ]
  },
  {
   "cell_type": "code",
   "execution_count": 1,
   "metadata": {},
   "outputs": [],
   "source": [
    "import matplotlib.pyplot as plt\n",
    "%matplotlib inline\n",
    "import numpy as np"
   ]
  },
  {
   "cell_type": "markdown",
   "metadata": {},
   "source": [
    "Afficher les coefficients stoechiométriques associés à la réaction étudiée.\n",
    "Afin d'obtenir les mêmes tracés, a est le coefficient stoechiométrique du diiode noté A, b le coefficient stoechiométrique du thiosulfate noté B, c est le coefficient stoechiométrique de l'ion iodure noté C et d est le coefficient de l'ion tétrathionate noté D.\n",
    "A vous de compléter la cellule."
   ]
  },
  {
   "cell_type": "code",
   "execution_count": 2,
   "metadata": {},
   "outputs": [],
   "source": [
    "a=......   #Donc à compléter...\n",
    "b=......\n",
    "c=......\n",
    "d=......"
   ]
  },
  {
   "cell_type": "markdown",
   "metadata": {},
   "source": [
    "L'équation chimique s'écrit pour le programme : aA + bB ---> cC + dD"
   ]
  },
  {
   "cell_type": "code",
   "execution_count": 3,
   "metadata": {},
   "outputs": [
    {
     "name": "stdout",
     "output_type": "stream",
     "text": [
      "l'équation étudiée est du type :  1  A    +     2  B    -->      2  C      +     1  D\n"
     ]
    }
   ],
   "source": [
    "print(\"l'équation étudiée est du type : \",\n",
    "      a,\" A    +    \",b,\" B    -->     \",\n",
    "      c,\" C      +    \",d,\" D\")"
   ]
  },
  {
   "cell_type": "markdown",
   "metadata": {},
   "source": [
    "Calculer les quantités de matière initiale en mol pour les différentes espèces."
   ]
  },
  {
   "cell_type": "code",
   "execution_count": 4,
   "metadata": {},
   "outputs": [],
   "source": [
    "# Quantités de matières initiales exprimées en mol à compléter.\n",
    "nA_0 = .......    \n",
    "nB_0 = .......\n",
    "nC_0 = .......\n",
    "nD_0 = ......."
   ]
  },
  {
   "cell_type": "markdown",
   "metadata": {},
   "source": [
    "Initialisation des variables et initialisation de la chaine permettant de déterminer le réactif limitant."
   ]
  },
  {
   "cell_type": "code",
   "execution_count": 5,
   "metadata": {},
   "outputs": [],
   "source": [
    "#Initialisation des variables\n",
    "\n",
    "# Initialisation de la chaine de caractère correspondant \n",
    "# au réactif limitant\n",
    "Rlimitant =''  \n",
    "\n",
    "# Avancement initial\n",
    "x=0            \n",
    "\n",
    "# Pas d'avancement (on augmentera progressivement x de la valeur dx)\n",
    "dx=0.001       \n",
    "\n",
    "# Création des listes contenant les quantités de matière \n",
    "# et initialisation de ces listes avec la valeur initiale  \n",
    "nA=[nA_0]      \n",
    "nB=[nB_0]      \n",
    "nC=[nC_0]\n",
    "nD=[nD_0]\n",
    "\n",
    "# Création et nitialisation de la liste contenant l'avancement\n",
    "X=[x]          "
   ]
  },
  {
   "cell_type": "markdown",
   "metadata": {},
   "source": [
    "Compléter les expressions des quantités de matière en tenant compte des notations de l'équation aA + bB ---> cC + dD et des quantités initiales des espèces nA_0,nB_0,nC_0 et nD_0"
   ]
  },
  {
   "cell_type": "code",
   "execution_count": 6,
   "metadata": {},
   "outputs": [
    {
     "name": "stdout",
     "output_type": "stream",
     "text": [
      "Le réactif limitant est  B \n",
      " Avancement maximum :  0.0010 mol\n"
     ]
    }
   ],
   "source": [
    "# Calculs des quantités de matière en cours d'avancement, à compléter\n",
    "while nA[-1] > 0 and nB[-1] > 0 :\n",
    "    x=x+dx\n",
    "    X.append(x)\n",
    "    nA.append(........)\n",
    "    nB.append(........)\n",
    "    nC.append(........)    \n",
    "    nD.append(........)    \n",
    "\n",
    "#Détermination du réactif limitant \n",
    "if nA[-1]  <=0                   : Rlimitant = 'A'\n",
    "if nB[-1]  <=0                   : Rlimitant = 'B'\n",
    "if nA[-1]  <=0   and   nB[-1]<=0 : \n",
    "    Rlimitant='A et B : le mélange est stoechiometrique'\n",
    "        \n",
    "#Affichage des résultats\n",
    "print('Le réactif limitant est ',Rlimitant,\n",
    "      '\\n Avancement maximum : ','{0:.4f}'.format(x),\n",
    "      'mol' )\n",
    "#{0:.4f} permet d’afficher un nombre arrondi à \n",
    "# 4 chiffres après la virgule (ici)."
   ]
  },
  {
   "cell_type": "markdown",
   "metadata": {},
   "source": [
    "Il est possible de demander au programme de donner les équations des droites modélisant les variations des quantités de matière en fonction de l'avancement."
   ]
  },
  {
   "cell_type": "code",
   "execution_count": null,
   "metadata": {},
   "outputs": [],
   "source": [
    "plt.figure(figsize=(10,10))\n",
    "plt.plot(X,nA,'r-',lw=1,label='nA')\n",
    "plt.plot(X,nB,'g-',lw=1,label='nB')    \n",
    "plt.plot(X,nC,'b-',lw=1,label='nC')    \n",
    "plt.plot(X,nD,'k-',lw=1,label='nD')    \n",
    "plt.grid()\n",
    "plt.xlabel('x (mol)')\n",
    "plt.ylabel('n (mol)')\n",
    "plt.legend()\n",
    "plt.show()"
   ]
  },
  {
   "cell_type": "code",
   "execution_count": null,
   "metadata": {},
   "outputs": [],
   "source": [
    "Amodel=np.polyfit(X, nA,1)\n",
    "Bmodel=np.polyfit(X, nB,1)\n",
    "Cmodel=np.polyfit(X, nC,1)\n",
    "Dmodel=np.polyfit(X, nD,1)\n",
    "\n",
    "print (\"la droite représentant l'évolution de nA\" \n",
    "       \" en fonction de x a pour équation : nA = \",\n",
    "       '{0:.0f}'.format(Amodel[0]),'{:5}'.format(\"x +\"),\n",
    "       \"{0:.3f}\".format(Amodel[1]) )\n",
    "\n",
    "print (\"la droite représentant l'évolution de nB\"\n",
    "       \" en fonction de x a pour équation : nB = \",\n",
    "       \"{0:.0f}\".format(Bmodel[0]),'{:5}'.format(\"x +\"),\n",
    "       \"{0:.3f}\".format(Bmodel[1]) )\n",
    "\n",
    "print (\"la droite représentant l'évolution de nC\"\n",
    "       \" en fonction de x a pour équation : nC = \",\n",
    "       \"{0:.0f}\".format(Cmodel[0]),'{:5}'.format(\"x +\"),\n",
    "       \"{0:.3f}\".format(Cmodel[1]) )\n",
    "\n",
    "print (\"la droite représentant l'évolution de nD\"\n",
    "       \" en fonction de x a pour équation : nD = \",\n",
    "       \"{0:.0f}\".format(Dmodel[0]),'{:5}'.format(\"x +\"),\n",
    "       \"{0:.3f}\".format(Dmodel[1])) "
   ]
  }
 ],
 "metadata": {
  "kernelspec": {
   "display_name": "Python 3",
   "language": "python",
   "name": "python3"
  },
  "language_info": {
   "codemirror_mode": {
    "name": "ipython",
    "version": 3
   },
   "file_extension": ".py",
   "mimetype": "text/x-python",
   "name": "python",
   "nbconvert_exporter": "python",
   "pygments_lexer": "ipython3",
   "version": "3.7.8"
  }
 },
 "nbformat": 4,
 "nbformat_minor": 4
}
