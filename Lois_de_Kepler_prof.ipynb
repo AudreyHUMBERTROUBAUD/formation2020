{
 "cells": [
  {
   "cell_type": "markdown",
   "metadata": {},
   "source": [
    "# Loi de Kepler, détermination de la masse de Jupiter (prof)"
   ]
  },
  {
   "cell_type": "markdown",
   "metadata": {},
   "source": [
    "importation des bibliothèques"
   ]
  },
  {
   "cell_type": "code",
   "execution_count": 1,
   "metadata": {},
   "outputs": [],
   "source": [
    "import matplotlib.pyplot as plt\n",
    "import scipy.stats as stat"
   ]
  },
  {
   "cell_type": "markdown",
   "metadata": {},
   "source": [
    "listes des demi-grands axes a en U.A et périodes des planètes en années"
   ]
  },
  {
   "cell_type": "code",
   "execution_count": 2,
   "metadata": {},
   "outputs": [],
   "source": [
    "LIST_a = [0.39,0.72,1,1.5,5.2,9.5,19.2,30]\n",
    "LIST_T = [0.24,0.615,1,1.88,11.9,29.4,84,165.0]\n",
    "LIST_P = ['Mercure','Venus','Terre','Mars','Jupiter','Saturne','Uranus','Neptune']"
   ]
  },
  {
   "cell_type": "markdown",
   "metadata": {},
   "source": [
    "a au cube et T au carré"
   ]
  },
  {
   "cell_type": "code",
   "execution_count": 3,
   "metadata": {},
   "outputs": [],
   "source": [
    "for i in range(0, len(LIST_a)):\n",
    "    LIST_a[i] = (LIST_a[i]*150e9)**3\n",
    "    LIST_T[i] = (LIST_T[i]*365*24*3600)**2"
   ]
  },
  {
   "cell_type": "markdown",
   "metadata": {},
   "source": [
    "regression linéaire"
   ]
  },
  {
   "cell_type": "code",
   "execution_count": 4,
   "metadata": {},
   "outputs": [
    {
     "name": "stdout",
     "output_type": "stream",
     "text": [
      "pente-->2.9702583365475367e-19\n",
      "ordonnée à l origine-->-8567283284174336.0\n",
      "coefficient de correlation -->0.9999955639899949\n"
     ]
    }
   ],
   "source": [
    "regression = stat.linregress(LIST_a,LIST_T)\n",
    "pente = regression[0]\n",
    "print ('pente-->'+str(pente))\n",
    "ordorigine=regression[1]\n",
    "print('ordonnée à l origine-->'+str(ordorigine))\n",
    "coeffcorel = regression[2]\n",
    "print('coefficient de correlation -->'+str(coeffcorel))"
   ]
  },
  {
   "cell_type": "markdown",
   "metadata": {},
   "source": [
    "affichage point et droite de regression"
   ]
  },
  {
   "cell_type": "code",
   "execution_count": 5,
   "metadata": {},
   "outputs": [
    {
     "data": {
      "image/png": "[encoded data removed]",
      "text/plain": [
       "<Figure size 432x288 with 1 Axes>"
      ]
     },
     "metadata": {
      "needs_background": "light"
     },
     "output_type": "display_data"
    }
   ],
   "source": [
    "a_3_max = LIST_a[len(LIST_a)-1]\n",
    "T_2_max =pente *a_3_max + ordorigine\n",
    "plt.grid(True)\n",
    "plt.xlabel('a au cube (m3)')\n",
    "plt.ylabel('periode au carré (s2)')\n",
    "plt.scatter(LIST_a, LIST_T,s = 100, c ='red', marker='+')\n",
    "for i in range (0,len(LIST_a)):\n",
    "    plt.text(LIST_a[i],LIST_T[i],LIST_P[i],fontsize=8)\n",
    "plt.plot([0,a_3_max],[ordorigine,T_2_max],c='blue')\n",
    "plt.show()"
   ]
  },
  {
   "cell_type": "code",
   "execution_count": null,
   "metadata": {},
   "outputs": [],
   "source": []
  }
 ],
 "metadata": {
  "kernelspec": {
   "display_name": "Python 3",
   "language": "python",
   "name": "python3"
  },
  "language_info": {
   "codemirror_mode": {
    "name": "ipython",
    "version": 3
   },
   "file_extension": ".py",
   "mimetype": "text/x-python",
   "name": "python",
   "nbconvert_exporter": "python",
   "pygments_lexer": "ipython3",
   "version": "3.7.8"
  }
 },
 "nbformat": 4,
 "nbformat_minor": 4
}
