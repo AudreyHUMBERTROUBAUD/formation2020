{
 "cells": [
  {
   "cell_type": "markdown",
   "id": "equal-westminster",
   "metadata": {},
   "source": [
    "# TP n° 12 : Tracé de la variation du vecteur vitesse"
   ]
  },
  {
   "cell_type": "markdown",
   "id": "southwest-organ",
   "metadata": {},
   "source": [
    "Il faut importer les bibliothèques."
   ]
  },
  {
   "cell_type": "code",
   "execution_count": 1,
   "id": "responsible-consumer",
   "metadata": {},
   "outputs": [],
   "source": [
    "import numpy as np\n",
    "import matplotlib.pyplot as plt\n",
    "plt.rcParams['figure.dpi'] = 100"
   ]
  },
  {
   "cell_type": "markdown",
   "id": "healthy-hampshire",
   "metadata": {},
   "source": [
    "Il faut entrer les valeurs. Préciser la durée séparant 2 images et les valeurs des coordonnées de la position de l'objet.\n",
    "Attention: En programmation python, il faut des points pour l'écriture des valeurs décimales et une virgule pour séparer les valeurs."
   ]
  },
  {
   "cell_type": "code",
   "execution_count": 2,
   "id": "productive-adobe",
   "metadata": {},
   "outputs": [],
   "source": [
    "dt = ..........\n",
    "x = np.array([...............................................])\n",
    "y = np.array([..............................................................])\n",
    "N = x.size"
   ]
  },
  {
   "cell_type": "markdown",
   "id": "sapphire-hundred",
   "metadata": {},
   "source": [
    "Calcul des vitesses suivant l'axe x et suivant l'axe y."
   ]
  },
  {
   "cell_type": "code",
   "execution_count": 3,
   "id": "renewable-training",
   "metadata": {},
   "outputs": [],
   "source": [
    "vx = np.zeros(N)\n",
    "vy = np.zeros(N)\n",
    "for i in range(1,N-1):\n",
    "    vx[i] = (x[i+1]-x[i])/(dt)\n",
    "    vy[i] = ....................\n"
   ]
  },
  {
   "cell_type": "markdown",
   "id": "social-billy",
   "metadata": {},
   "source": [
    "Calcul des variations de vitesse suivant l'axe x et suivant l'axe y."
   ]
  },
  {
   "cell_type": "code",
   "execution_count": 4,
   "id": "silver-scholar",
   "metadata": {},
   "outputs": [],
   "source": [
    "dvx = np.zeros(N)\n",
    "dvy = np.zeros(N)\n",
    "for i in range(2,N-2):\n",
    "    dvx[i] = vx[i+1]-vx[i]\n",
    "    dvy[i] = .................."
   ]
  },
  {
   "cell_type": "markdown",
   "id": "manual-england",
   "metadata": {},
   "source": [
    "Affichage des axes, des graduations, tracé de vecteur vitesse et tracé de la variation du vecteur vitesse.\n",
    "Attention: Vous devez choisir les vleurs limites des positions sur les axes. Choisir une échelle adaptée à la représentation."
   ]
  },
  {
   "cell_type": "code",
   "execution_count": null,
   "id": "substantial-cliff",
   "metadata": {},
   "outputs": [],
   "source": [
    "plt.xlabel('x (m)')\n",
    "plt.xlim(0,.....)\n",
    "plt.ylabel('y (m)')\n",
    "plt.ylim(0,.....)\n",
    "plt.title('Trajectoire d\\'un ballon')\n",
    "plt.plot(x,y,'.')\n",
    "plt.quiver(x,y,vx,vy,angles='xy',scale_units='xy',scale=.....,color='red',width=0.005)\n",
    "plt.quiver(x,y,dvx,dvy,angles='xy',scale_units='xy',scale=......,color='blue',width=0.005)\n",
    "plt.show()"
   ]
  }
 ],
 "metadata": {
  "kernelspec": {
   "display_name": "Python 3",
   "language": "python",
   "name": "python3"
  },
  "language_info": {
   "codemirror_mode": {
    "name": "ipython",
    "version": 3
   },
   "file_extension": ".py",
   "mimetype": "text/x-python",
   "name": "python",
   "nbconvert_exporter": "python",
   "pygments_lexer": "ipython3",
   "version": "3.7.9"
  }
 },
 "nbformat": 4,
 "nbformat_minor": 5
}
