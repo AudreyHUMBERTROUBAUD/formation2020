{
 "cells": [
  {
   "cell_type": "markdown",
   "metadata": {},
   "source": [
    "# Taux d'avancement final"
   ]
  },
  {
   "cell_type": "markdown",
   "metadata": {},
   "source": [
    "Vous allez exécuter le programme suivant pour obtenir le taux d'avancement final dans différentes situations. Pour cela vous devez renseigner les cellules et cliquer sur Entrée pour valider les valeurs numériques."
   ]
  },
  {
   "cell_type": "markdown",
   "metadata": {},
   "source": [
    "Attention: En langage Python, il faut mettre un point à la place de la virgule sinon il y a des erreurs de syntaxe.Pour les puissances de 10 on utilise la notation suivante 1e-2 pour écrire 0.01"
   ]
  },
  {
   "cell_type": "code",
   "execution_count": null,
   "metadata": {},
   "outputs": [],
   "source": [
    "pH=float(input('pH de la solution ? pH ='))\n",
    "C=float(input('Concentration en soluté apporté en mol/L ? C ='))\n",
    "V=float(input('Volume de la solution en L ? V ='))\n",
    "xf=10**-pH*V\n",
    "xmax=C*V\n",
    "tau=round(xf/xmax,2)\n",
    "if tau>1 : print('tau d\\'avancement =', tau,'impossible')\n",
    "else :\n",
    "    if tau==1 : print('tau d\\'avancement =',tau,'Acide fort')\n",
    "    else :\n",
    "        print('tau d\\'avancement =',tau,'Acide faible')\n",
    "        "
   ]
  }
 ],
 "metadata": {
  "kernelspec": {
   "display_name": "Python 3",
   "language": "python",
   "name": "python3"
  },
  "language_info": {
   "codemirror_mode": {
    "name": "ipython",
    "version": 3
   },
   "file_extension": ".py",
   "mimetype": "text/x-python",
   "name": "python",
   "nbconvert_exporter": "python",
   "pygments_lexer": "ipython3",
   "version": "3.7.8"
  }
 },
 "nbformat": 4,
 "nbformat_minor": 4
}
