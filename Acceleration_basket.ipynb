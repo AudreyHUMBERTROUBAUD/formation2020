{
  "cells": [
    {
      "cell_type": "markdown",
      "metadata": {
        "id": "nT7tG2D9Q0E8"
      },
      "source": [
        "# Tracé des vecteurs accélération"
      ]
    },
    {
      "cell_type": "markdown",
      "metadata": {
        "id": "bffGIaxbQ0E9"
      },
      "source": [
        "Importation des bibliothèques"
      ]
    },
    {
      "cell_type": "code",
      "execution_count": null,
      "metadata": {
        "id": "cYIOkBwGQ0E-"
      },
      "outputs": [],
      "source": [
        "import matplotlib.pyplot as plt\n",
        "import numpy as np"
      ]
    },
    {
      "cell_type": "markdown",
      "source": [
        "Rentrer les valeurs liées au pointage vidéo. Les virgules sont les éléments séparateurs. Les valeurs décimales s'écrivent avec un pointet non une virgule."
      ],
      "metadata": {
        "id": "FOxw_-M4Q-zw"
      }
    },
    {
      "cell_type": "code",
      "source": [
        "t = np.array([.......])\n",
        "x = np.array([.......])\n",
        "y = np.array([.......])"
      ],
      "metadata": {
        "id": "E6O-t7JjRdU4"
      },
      "execution_count": null,
      "outputs": []
    },
    {
      "cell_type": "markdown",
      "metadata": {
        "id": "KUftix_dQ0FA"
      },
      "source": [
        "Calcul des coordonnées vx et vy du vecteur vitesse"
      ]
    },
    {
      "cell_type": "code",
      "execution_count": null,
      "metadata": {
        "id": "wTaSSytaQ0FA"
      },
      "outputs": [],
      "source": [
        "vx=[]\n",
        "for i in range(len(x)-1) :\n",
        "    vx=vx+[(x[i+1]-x[i])/(t[i+1]-t[i])]\n",
        "\n",
        "vy=[]\n",
        "for i in range(len(y)-1) :\n",
        "    vy=.........................."
      ]
    },
    {
      "cell_type": "code",
      "execution_count": null,
      "metadata": {
        "id": "IDjYUG5YQ0FA"
      },
      "outputs": [],
      "source": [
        "Définition des coordonnées ax et ay du vecteur accélération"
      ]
    },
    {
      "cell_type": "code",
      "execution_count": null,
      "metadata": {
        "id": "uIvB7TsDQ0FB"
      },
      "outputs": [],
      "source": [
        "ax=[]\n",
        "for i in range(len(vx)-1) :\n",
        "    ax=..................................\n",
        "\n",
        "    ay=[]\n",
        "for i in range(len(vy)-1) :\n",
        "    ay=................................."
      ]
    },
    {
      "cell_type": "code",
      "execution_count": null,
      "metadata": {
        "id": "1g7wgUpdQ0FB"
      },
      "outputs": [],
      "source": [
        "Commande pour tracer les vecteurs accélération, mettre titre, echelle..."
      ]
    },
    {
      "cell_type": "code",
      "execution_count": null,
      "metadata": {
        "id": "GhSwaiECQ0FB"
      },
      "outputs": [],
      "source": [
        "for i in range(len(t)-1):\n",
        "    plt.plot(0,0,x[i],y[i],'ro')\n",
        "    if i < len(t)-2:\n",
        "        plt.arrow(x[i+1],y[i+1],ax[i]*0.1,ay[i]*0.1, color='b',head_width=0.1, head_length=0.10, length_includes_head=True)\n",
        "        plt.text(x[i+1]+0.05,y[i+1]-0.15,'$ \\overrightarrow{a}_{%.i}$'%(i+2),color=\"blue\")\n",
        "\n",
        "#Légende\n",
        "plt.text(1.5,0.55,\"Échelle :    5 $\\mathrm{m\\cdot s^{-2}}$\",  color=\"blue\")\n",
        "plt.plot([2,2],[0,0.5],'_-',color='blue')\n",
        "plt.grid()\n",
        "plt.title(\"Tracé des vecteurs accélération\")\n",
        "plt.xlabel('x (m)')\n",
        "plt.ylabel('y (m)')\n",
        "\n",
        "#sauvegarde sous forme d'image\n",
        "plt.savefig(\"vecteurs-accélération.png\")\n",
        "plt.show()"
      ]
    }
  ],
  "metadata": {
    "kernelspec": {
      "display_name": "Python 3",
      "language": "python",
      "name": "python3"
    },
    "language_info": {
      "codemirror_mode": {
        "name": "ipython",
        "version": 3
      },
      "file_extension": ".py",
      "mimetype": "text/x-python",
      "name": "python",
      "nbconvert_exporter": "python",
      "pygments_lexer": "ipython3",
      "version": "3.7.8"
    },
    "colab": {
      "provenance": []
    }
  },
  "nbformat": 4,
  "nbformat_minor": 0
}