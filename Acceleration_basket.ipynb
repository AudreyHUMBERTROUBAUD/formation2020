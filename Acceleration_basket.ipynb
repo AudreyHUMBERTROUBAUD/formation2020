{
 "cells": [
  {
   "cell_type": "markdown",
   "metadata": {},
   "source": [
    "# Tracé des vecteurs accélération"
   ]
  },
  {
   "cell_type": "markdown",
   "metadata": {},
   "source": [
    "Importation des bibliothèques"
   ]
  },
  {
   "cell_type": "code",
   "execution_count": null,
   "metadata": {},
   "outputs": [],
   "source": [
    "import matplotlib.pyplot as plt\n",
    "import csv"
   ]
  },
  {
   "cell_type": "markdown",
   "metadata": {},
   "source": [
    "Définition d'une fonction qui permettra de lire les données issues d'un fichier de type csv."
   ]
  },
  {
   "cell_type": "code",
   "execution_count": null,
   "metadata": {},
   "outputs": [],
   "source": [
    "def readColCSV(fichier,sep,n) :\n",
    "    file=open(fichier,\"r\")\n",
    "    reader=csv.reader(file,delimiter=sep)\n",
    "    col=[]\n",
    "    for row in reader :\n",
    "        if(row[n][0].isdigit()) :\n",
    "            notation_point=row[n].replace(\",\",\".\")\n",
    "            col.append(float(notation_point))\n",
    "    return col"
   ]
  },
  {
   "cell_type": "markdown",
   "metadata": {},
   "source": [
    "Remplir le nom du programme csv. Il suffira de rentrer le nom pointage-position"
   ]
  },
  {
   "cell_type": "code",
   "execution_count": null,
   "metadata": {},
   "outputs": [],
   "source": [
    "fichier=input(\"Quel est le nom du fichier de pointage (sans l'extension .csv)?\")+\".csv\""
   ]
  },
  {
   "cell_type": "markdown",
   "metadata": {},
   "source": [
    "Définition des grandeurs relatives à chaque colonne du fichier csv"
   ]
  },
  {
   "cell_type": "code",
   "execution_count": null,
   "metadata": {},
   "outputs": [],
   "source": [
    "#Appel de la fonction pour récupérer et lire les données.\n",
    "t=readColCSV(fichier,\";\",0)\n",
    "x=readColCSV(fichier, \";\",1)\n",
    "y=readColCSV(fichier, \";\",2)"
   ]
  },
  {
   "cell_type": "markdown",
   "metadata": {},
   "source": [
    "Calcul des coordonnéesvx et vy du vecteur vitesse"
   ]
  },
  {
   "cell_type": "code",
   "execution_count": null,
   "metadata": {},
   "outputs": [],
   "source": [
    "vx=[]\n",
    "for i in range(len(x)-1) :\n",
    "    vx=vx+[(x[i+1]-x[i])/(t[i+1]-t[i])]\n",
    "\n",
    "vy=[]\n",
    "for i in range(len(y)-1) :\n",
    "    vy=vy+[(y[i+1]-y[i])/(t[i+1]-t[i])]"
   ]
  },
  {
   "cell_type": "code",
   "execution_count": null,
   "metadata": {},
   "outputs": [],
   "source": [
    "Définition des coordonnées ax etay du vecteur accélération"
   ]
  },
  {
   "cell_type": "code",
   "execution_count": null,
   "metadata": {},
   "outputs": [],
   "source": [
    "ax=[]\n",
    "for i in range(len(vx)-1) :\n",
    "    ax=ax+[(vx[i+1]-vx[i])/(t[i+1]-t[i])]\n",
    "\n",
    "    ay=[]\n",
    "for i in range(len(vy)-1) :\n",
    "    ay=ay+[(vy[i+1]-vy[i])/(t[i+1]-t[i])]"
   ]
  },
  {
   "cell_type": "code",
   "execution_count": null,
   "metadata": {},
   "outputs": [],
   "source": [
    "Commande pour tracer les vecteurs accélération, mettre titre, echelle..."
   ]
  },
  {
   "cell_type": "code",
   "execution_count": null,
   "metadata": {},
   "outputs": [],
   "source": [
    "for i in range(len(t)-1):\n",
    "    plt.plot(0,0,x[i],y[i],'ro')\n",
    "    if i < len(t)-2:\n",
    "        plt.arrow(x[i+1],y[i+1],ax[i]*0.1,ay[i]*0.1, color='b',head_width=0.1, head_length=0.10, length_includes_head=True)\n",
    "        plt.text(x[i+1]+0.05,y[i+1]-0.15,'$ \\overrightarrow{a}_{%.i}$'%(i+2),color=\"blue\")\n",
    "\n",
    "#Légende\n",
    "plt.text(1.5,0.55,\"Échelle :    5 $\\mathrm{m\\cdot s^{-2}}$\",  color=\"blue\")\n",
    "plt.plot([2,2],[0,0.5],'_-',color='blue')\n",
    "plt.grid()\n",
    "plt.title(\"Tracé des vecteurs accélération\")\n",
    "plt.xlabel('x (m)')\n",
    "plt.ylabel('y (m)')\n",
    "\n",
    "#sauvegarde sous forme d'image\n",
    "plt.savefig(\"vecteurs-accélération.png\")\n",
    "plt.show()"
   ]
  }
 ],
 "metadata": {
  "kernelspec": {
   "display_name": "Python 3",
   "language": "python",
   "name": "python3"
  },
  "language_info": {
   "codemirror_mode": {
    "name": "ipython",
    "version": 3
   },
   "file_extension": ".py",
   "mimetype": "text/x-python",
   "name": "python",
   "nbconvert_exporter": "python",
   "pygments_lexer": "ipython3",
   "version": "3.7.8"
  }
 },
 "nbformat": 4,
 "nbformat_minor": 4
}
