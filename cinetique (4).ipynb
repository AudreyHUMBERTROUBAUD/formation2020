{
 "cells": [
  {
   "cell_type": "markdown",
   "metadata": {},
   "source": [
    "# Cinétique d'ordre 1"
   ]
  },
  {
   "cell_type": "markdown",
   "metadata": {},
   "source": [
    "Les deux premières cellules permettent de rendre actif le Notebook pendant 2h même si vous ne le sollicitez pas."
   ]
  },
  {
   "cell_type": "code",
   "execution_count": 1,
   "metadata": {},
   "outputs": [
    {
     "data": {
      "application/javascript": [
       "\n",
       "function repeter(){\n",
       "IPython.notebook.kernel.execute(\"a=1\");\n",
       "}\n",
       "// execute a = 1 en python toutes les 8 minutes pendant 2h\n",
       "let timerId = setInterval(() => repeter(), 480000);\n",
       "setTimeout(() => { clearInterval(timerId); alert('fin de cession'); }, 7200000);\n",
       "\n",
       "// Supprimer la taille limite pour la sortie d'une cellule\n",
       "IPython.OutputArea.prototype._should_scroll = function(lines) {\n",
       "    return false;\n",
       "};\n",
       "IPython.notebook.kernel.execute(\"url = '\" + window.location + \"'\");\n",
       "\n",
       "// Exécuter toutes les cellule du notebook\n",
       "    require(\n",
       "        ['base/js/namespace', 'jquery'], \n",
       "        function(jupyter, $) {\n",
       "            \n",
       "                \n",
       "                jupyter.actions.call('jupyter-notebook:run-all-cells-below');\n",
       "                jupyter.actions.call('jupyter-notebook:save-notebook');\n",
       "                \n",
       "\n",
       "        }\n",
       "    );"
      ],
      "text/plain": [
       "<IPython.core.display.Javascript object>"
      ]
     },
     "execution_count": 1,
     "metadata": {},
     "output_type": "execute_result"
    }
   ],
   "source": [
    "# Permet de tout executer au lancement du notebook + conserver le notebook actif pendant 2h\n",
    "from IPython.display import Javascript\n",
    "from masquer import *\n",
    "Javascript(\"\"\"\n",
    "function repeter(){\n",
    "IPython.notebook.kernel.execute(\"a=1\");\n",
    "}\n",
    "// execute a = 1 en python toutes les 8 minutes pendant 2h\n",
    "let timerId = setInterval(() => repeter(), 480000);\n",
    "setTimeout(() => { clearInterval(timerId); alert('fin de cession'); }, 7200000);\n",
    "\n",
    "// Supprimer la taille limite pour la sortie d'une cellule\n",
    "IPython.OutputArea.prototype._should_scroll = function(lines) {\n",
    "    return false;\n",
    "};\n",
    "IPython.notebook.kernel.execute(\"url = '\" + window.location + \"'\");\n",
    "\n",
    "// Exécuter toutes les cellule du notebook\n",
    "    require(\n",
    "        ['base/js/namespace', 'jquery'], \n",
    "        function(jupyter, $) {\n",
    "            \n",
    "                \n",
    "                jupyter.actions.call('jupyter-notebook:run-all-cells-below');\n",
    "                jupyter.actions.call('jupyter-notebook:save-notebook');\n",
    "                \n",
    "\n",
    "        }\n",
    "    );\"\"\")"
   ]
  },
  {
   "cell_type": "code",
   "execution_count": 2,
   "metadata": {},
   "outputs": [
    {
     "name": "stdout",
     "output_type": "stream",
     "text": [
      "lien à partager si besoin d'aide\n"
     ]
    },
    {
     "data": {
      "text/html": [
       "<a href=https://hub.gke.mybinder.org/user/audreyhumbertro-d-formation2020-uqbnfu4j/notebooks/Untitled2.ipynb?kernel_name=python3#?token=On34WbndRCW_tegLC-9HSg >https://hub.gke.mybinder.org/user/audreyhumbertro-d-formation2020-uqbnfu4j/notebooks/Untitled2.ipynb?kernel_name=python3#?token=On34WbndRCW_tegLC-9HSg</a>"
      ],
      "text/plain": [
       "<IPython.core.display.HTML object>"
      ]
     },
     "metadata": {},
     "output_type": "display_data"
    }
   ],
   "source": [
    "import os\n",
    "from IPython.display import HTML\n",
    "l = os.popen(\"jupyter notebook list\").readlines()\n",
    "token = l[1].split(\"?token=\")[1].split(\" :: \")[0]\n",
    "url2=url +\"?token=\"+token\n",
    "print(\"lien à partager si besoin d'aide\")\n",
    "display(HTML(\"<a href=\"+url2+\" >\"+url2+\"</a>\"))"
   ]
  },
  {
   "cell_type": "markdown",
   "metadata": {},
   "source": [
    "Le programme ne commence en rélité qu'ici."
   ]
  },
  {
   "cell_type": "markdown",
   "metadata": {},
   "source": [
    "1ère étape:on importe les bibliothèques."
   ]
  },
  {
   "cell_type": "code",
   "execution_count": 3,
   "metadata": {},
   "outputs": [],
   "source": [
    "from math import * \n",
    "import  matplotlib.pyplot as plt\n",
    "import numpy as np\n",
    "from scipy.stats import linregress"
   ]
  },
  {
   "cell_type": "markdown",
   "metadata": {},
   "source": [
    "2ème étape on rentre les variables (grandeurs) et on effectue les calculs associés.On détermine les grandeurs à représenter et on trace la courbe."
   ]
  },
  {
   "cell_type": "code",
   "execution_count": 4,
   "metadata": {},
   "outputs": [
    {
     "name": "stdout",
     "output_type": "stream",
     "text": [
      "ln(c)= -0.03049473186016416 t+ 4.825444726521105 coef. de corr. = -0.9999954939887647\n"
     ]
    },
    {
     "data": {
      "image/png": "[encoded data removed]",
      "text/plain": [
       "<Figure size 432x288 with 1 Axes>"
      ]
     },
     "metadata": {
      "needs_background": "light"
     },
     "output_type": "display_data"
    }
   ],
   "source": [
    "# définition extensive d'une liste (extrait d'un tableau de mesures)\n",
    "listet=[0.0,10.0,20.0,30.0,60.0,90.0]\n",
    "listec=[124.0,92.0,68.0,50.0,20.0,8.0]\n",
    "listelnc=[0.0,0.0,0.0,0.0,0.0,0.0]\n",
    "modelelinY=[0.0,0.0,0.0,0.0,0.0,0.0]\n",
    "\n",
    "# calcul de la liste des logarithmes des concentrations\n",
    "for i in range (0,6):\n",
    "    listelnc[i]=np.log(listec[i])\n",
    "\n",
    "# tracé du graphique donnant ln (c) en fonction de t\n",
    "plt.plot(listet,listelnc,\"*\",color=\"red\")\n",
    "\n",
    "# calcul des paramètres de la régression linéaire\n",
    "(a,b,rho,_,_)=linregress(listet,listelnc)\n",
    "# a: coefficient directeur\n",
    "# b: ordonnée à l'origine\n",
    "# rho: coefficient de corrélation linéaire\n",
    "print(\"ln(c)=\",a,\"t+\",b,\"coef. de corr. =\",rho)\n",
    "for i in range (0,6):\n",
    "    modelelinY[i]=a*listet[i]+b\n",
    "\n",
    "# tracé de la droite de régression linéaire\n",
    "plt.plot(listet,modelelinY,color=\"blue\")\n",
    "plt.xlabel(\"t(en min)\")\n",
    "plt.ylabel(\"ln(c)\")\n",
    "plt.show()"
   ]
  },
  {
   "cell_type": "code",
   "execution_count": null,
   "metadata": {},
   "outputs": [],
   "source": []
  }
 ],
 "metadata": {
  "kernelspec": {
   "display_name": "Python 3",
   "language": "python",
   "name": "python3"
  },
  "language_info": {
   "codemirror_mode": {
    "name": "ipython",
    "version": 3
   },
   "file_extension": ".py",
   "mimetype": "text/x-python",
   "name": "python",
   "nbconvert_exporter": "python",
   "pygments_lexer": "ipython3",
   "version": "3.7.8"
  }
 },
 "nbformat": 4,
 "nbformat_minor": 4
}
