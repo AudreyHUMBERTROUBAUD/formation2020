{
 "cells": [
  {
   "cell_type": "markdown",
   "metadata": {},
   "source": [
    "# Taux d'avancement (complété)"
   ]
  },
  {
   "cell_type": "markdown",
   "metadata": {},
   "source": [
    "Voici une proposition de programme permettant d'afficher si l'acide est faiblement dissocié et la composition du système à l'état final"
   ]
  },
  {
   "cell_type": "code",
   "execution_count": null,
   "metadata": {},
   "outputs": [],
   "source": [
    "pH=float(input('pH de la solution ? pH ='))\n",
    "C=float(input('Concentration en soluté apporté en mol/L ? C ='))\n",
    "V=float(input('Volume de la solution en L ? V ='))\n",
    "xf=10**-pH*V\n",
    "xmax=C*V\n",
    "tau=round(xf/xmax,2)\n",
    "if tau>1 : print('tau d\\'avancement =', tau,'impossible')\n",
    "else :\n",
    "    if tau==1 : print('tau d\\'avancement =',tau,'Acide fort')\n",
    "    else :\n",
    "        print('tau d\\'avancement =',tau,'Acide faible')\n",
    "        if tau <0.10 : \n",
    "            print(\"\\n L'acide est faiblement dissocié.\")\n",
    "        print(\"A l'équilibre :  \\n\")\n",
    "        print(\"n(AH)=\", round(xmax -xf,2), \" mol.\\n\" )\n",
    "        print(\"n(A-)=\", round(xf,2), \" mol.\\n\" )\n",
    "        print(\"n(H3O+)=\", round(xf,2), \" mol.\" )"
   ]
  }
 ],
 "metadata": {
  "kernelspec": {
   "display_name": "Python 3",
   "language": "python",
   "name": "python3"
  },
  "language_info": {
   "codemirror_mode": {
    "name": "ipython",
    "version": 3
   },
   "file_extension": ".py",
   "mimetype": "text/x-python",
   "name": "python",
   "nbconvert_exporter": "python",
   "pygments_lexer": "ipython3",
   "version": "3.7.8"
  }
 },
 "nbformat": 4,
 "nbformat_minor": 4
}
