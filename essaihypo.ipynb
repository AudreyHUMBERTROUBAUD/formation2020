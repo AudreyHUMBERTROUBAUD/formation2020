{
 "cells": [
  {
   "cell_type": "markdown",
   "metadata": {},
   "source": [
    "# Hypocalcémie"
   ]
  },
  {
   "cell_type": "markdown",
   "metadata": {},
   "source": [
    "Voici le programme à compléter en lien avec l'exercice sur l'hypocalcémie."
   ]
  },
  {
   "cell_type": "markdown",
   "metadata": {},
   "source": [
    "Tout d'abord, il faut importer les bibliothèques utiles au programme."
   ]
  },
  {
   "cell_type": "code",
   "execution_count": 2,
   "metadata": {},
   "outputs": [],
   "source": [
    "import matplotlib.pyplot as plt\n",
    "import numpy as np"
   ]
  },
  {
   "cell_type": "markdown",
   "metadata": {},
   "source": [
    "Il faut entrer les valeurs expérimentales comme dans un tableur (variable x pour les abscisses et y pour les ordonnées)."
   ]
  },
  {
   "cell_type": "code",
   "execution_count": null,
   "metadata": {},
   "outputs": [],
   "source": [
    "x = [à compléter]#préciser la grandeur et l'unité\n",
    "y = [à compléter]#préciser la grandeur et l'unité"
   ]
  },
  {
   "cell_type": "markdown",
   "metadata": {},
   "source": [
    "Il faut définir l'affichage des grandeurs et des axes."
   ]
  },
  {
   "cell_type": "code",
   "execution_count": null,
   "metadata": {},
   "outputs": [],
   "source": [
    "plt.title(\"Courbe d'étalonnage G = f(C)\")\n",
    "plt.xlabel(\"C (mmol/L)\")\n",
    "plt.ylabel(\"G (ms)\")\n",
    "plt.plot(x,y,\"bo\",label=\"points expérimentaux\")\n",
    "plt.axis(xmin=0,xmax=10,ymin=0,ymax=6)\n",
    "plt.grid(linestyle=\"-.\")\n",
    "plt.xticks(range(11))"
   ]
  },
  {
   "cell_type": "code",
   "execution_count": null,
   "metadata": {},
   "outputs": [],
   "source": [
    "Il faut à présent réaliser la modélisation graphique."
   ]
  },
  {
   "cell_type": "code",
   "execution_count": null,
   "metadata": {},
   "outputs": [],
   "source": [
    "modele=np.polyfit(x,y,1)\n",
    "xm=np.linspace(0, 10,10)\n",
    "ym=modele[0]*xm+modele[1]\n",
    "plt.plot(xm, ym, \"r-\", label=\"modele y=\"+str(round(modele[0],3))+r\"$\\times x_m + $\"+str(round(modele[1],3)))\n",
    "print(\"Coefficient directeur du modele\" + str(round(modele[0],3)))\n",
    "print(\"Ordonnée à l'origine du modèle\" + str(round(modele[1],3)))\n",
    "plt.legend()\n",
    "plt.show()"
   ]
  }
 ],
 "metadata": {
  "kernelspec": {
   "display_name": "Python 3",
   "language": "python",
   "name": "python3"
  },
  "language_info": {
   "codemirror_mode": {
    "name": "ipython",
    "version": 3
   },
   "file_extension": ".py",
   "mimetype": "text/x-python",
   "name": "python",
   "nbconvert_exporter": "python",
   "pygments_lexer": "ipython3",
   "version": "3.7.8"
  }
 },
 "nbformat": 4,
 "nbformat_minor": 4
}
