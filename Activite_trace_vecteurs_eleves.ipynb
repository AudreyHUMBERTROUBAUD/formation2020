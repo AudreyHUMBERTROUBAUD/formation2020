{
 "cells": [
  {
   "cell_type": "markdown",
   "metadata": {},
   "source": [
    "# Tracé de vecteurs (version élèves)"
   ]
  },
  {
   "cell_type": "markdown",
   "metadata": {},
   "source": [
    "Vous allez compléter le programme python disponible sur votre Activité:Comment utiliser un langage de programmation pour décrire un mouvement? \n",
    "Vous travaillez sur un environnement Jupyter Notebook en ligne.\n",
    "Seuls les espaces en pointillés sont à modifier.\n",
    "Faire vérifier à l'enseignant avant de valider.\n",
    "Vous devez une fois le programme complété, exécuter les cellules une à une. Mais avant vous devez redémarrer le noyau (flèche courbe sur la barre d'outils). Des numéros apparaissent dans les entrées des cellules de code\n",
    "Vous pouvez télécharger votre travail au format PDF afin de la conserver."
   ]
  },
  {
   "cell_type": "markdown",
   "metadata": {},
   "source": [
    "Dans un programme, il convient de commencer par importer les bibliothèques."
   ]
  },
  {
   "cell_type": "code",
   "execution_count": null,
   "metadata": {},
   "outputs": [],
   "source": [
    "import numpy as np\n",
    "import matplotlib.pyplot as plt"
   ]
  },
  {
   "cell_type": "markdown",
   "metadata": {},
   "source": [
    "Nous allons rentrer les valeurs obtenues expérimentalement (Voir document 1).\n",
    "ATTENTION: en langage python, il faut utiliser un point pour les écritures décimales. La virgule est utilisée pour séparer les valeurs."
   ]
  },
  {
   "cell_type": "code",
   "execution_count": null,
   "metadata": {},
   "outputs": [],
   "source": [
    "x = np.array([.................])\n",
    "y = np.array([.................])"
   ]
  },
  {
   "cell_type": "markdown",
   "metadata": {},
   "source": [
    "Si nous voulons le tracé de la chronophotographie.Nous demandons le repérage des différents points."
   ]
  },
  {
   "cell_type": "code",
   "execution_count": null,
   "metadata": {},
   "outputs": [],
   "source": [
    "plt.plot(x,y,'o',markersize=3,color='blue')\n",
    "plt.xlabel(\"..................\")\n",
    "plt.ylabel(\"..................\")\n",
    "plt.title(\"Chronophotographie du mouvement du lâcher d'une balle\")"
   ]
  },
  {
   "cell_type": "markdown",
   "metadata": {},
   "source": [
    "Nous donnons à présent les consignes pour réaliser les tracés des vecteurs vitesse.Nous réalisons une boucle (voir document3). nous demandons d'afficher le tracé du vecteur vitesse."
   ]
  },
  {
   "cell_type": "code",
   "execution_count": null,
   "metadata": {},
   "outputs": [],
   "source": [
    "N=.....\n",
    "Dt=......\n",
    "for k in range(0,N-1):\n",
    "    vy=(y[k+1]-y[k])/Dt\n",
    "    echelle=0.2\n",
    "    vy=vy*echelle\n",
    "    vx=0\n",
    "    plt.quiver(x[.....],y[......],vx,vy,color='red',scale=1,scale_units='xy')"
   ]
  },
  {
   "cell_type": "markdown",
   "metadata": {},
   "source": [
    "Demander d'afficher le tracé si cela n'a pas été fait auparavant."
   ]
  },
  {
   "cell_type": "code",
   "execution_count": null,
   "metadata": {},
   "outputs": [],
   "source": [
    "plt.shox()"
   ]
  }
 ],
 "metadata": {
  "kernelspec": {
   "display_name": "Python 3",
   "language": "python",
   "name": "python3"
  },
  "language_info": {
   "codemirror_mode": {
    "name": "ipython",
    "version": 3
   },
   "file_extension": ".py",
   "mimetype": "text/x-python",
   "name": "python",
   "nbconvert_exporter": "python",
   "pygments_lexer": "ipython3",
   "version": "3.7.8"
  }
 },
 "nbformat": 4,
 "nbformat_minor": 4
}
